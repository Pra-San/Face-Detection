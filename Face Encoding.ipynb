{
 "cells": [
  {
   "cell_type": "code",
   "execution_count": null,
   "metadata": {},
   "outputs": [],
   "source": [
    "import face_recognition\n",
    "import cv2\n",
    "import numpy as np"
   ]
  },
  {
   "cell_type": "code",
   "execution_count": null,
   "metadata": {},
   "outputs": [],
   "source": [
    "new_name =[\"New Person\"]\n",
    "new_name = np.array(new_name)\n",
    "new_image= face_recognition.load_image_file(\"img.jpg\")\n",
    "new_encoding = face_recognition.face_encodings(new_image)[0]\n",
    "# new_encoding = new_encoding.tolist()\n",
    "try:\n",
    "\n",
    "    known_face_encodings=np.load('encodings.npy')\n",
    "    known_face_names=np.load('names.npy')\n",
    "    new_encoding = new_encoding.reshape(1, -1)\n",
    "    known_face_names = np.append(known_face_names, new_name)\n",
    "    known_face_encodings = np.append(known_face_encodings, new_encoding, axis=0)\n",
    "except FileNotFoundError:\n",
    "    known_face_encodings=np.array([new_encoding])\n",
    "    known_face_names=np.array(new_name)\n",
    "# encodings_list = known_face_encodings.tolist()\n",
    "# face_list = known_face_names.tolist()\n",
    "\n",
    "\n",
    "# face_list += new_name\n",
    "# encodings_list += [new_encoding]\n",
    "\n",
    "# known_face_names = np.array(face_list)\n",
    "# known_face_encodings = np.array(encodings_list)\n",
    "\n",
    "print(known_face_encodings)\n",
    "print(known_face_names)\n",
    "\n",
    "np.save('encodings.npy',known_face_encodings)\n",
    "np.save('names.npy',known_face_names)\n",
    "\n"
   ]
  }
 ],
 "metadata": {
  "kernelspec": {
   "display_name": "tf",
   "language": "python",
   "name": "python3"
  },
  "language_info": {
   "codemirror_mode": {
    "name": "ipython",
    "version": 3
   },
   "file_extension": ".py",
   "mimetype": "text/x-python",
   "name": "python",
   "nbconvert_exporter": "python",
   "pygments_lexer": "ipython3",
   "version": "3.9.19"
  }
 },
 "nbformat": 4,
 "nbformat_minor": 2
}
